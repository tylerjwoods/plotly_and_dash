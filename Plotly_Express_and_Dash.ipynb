{
 "cells": [
  {
   "cell_type": "markdown",
   "metadata": {},
   "source": [
    "# This tutorial is taken from:\n",
    "\n",
    "https://www.youtube.com/watch?v=5Cw4JumJTwo\n",
    "\n",
    "This is meant for educational purposes only"
   ]
  },
  {
   "cell_type": "markdown",
   "metadata": {},
   "source": [
    "# Plotly Express\n",
    "\n",
    "Library for data visualization with focus on data expoloration through rapid iteration\n",
    "\n",
    "pip install plotly_express"
   ]
  },
  {
   "cell_type": "markdown",
   "metadata": {},
   "source": [
    "# Dash\n",
    "\n",
    "Framework for creating analytical web applications in Python: no Javascript required\n",
    "\n",
    "pip install dash"
   ]
  },
  {
   "cell_type": "markdown",
   "metadata": {},
   "source": [
    "## Load in Plotly Express and a dataframe"
   ]
  },
  {
   "cell_type": "code",
   "execution_count": null,
   "metadata": {},
   "outputs": [],
   "source": [
    "import plotly_express as px"
   ]
  },
  {
   "cell_type": "code",
   "execution_count": null,
   "metadata": {},
   "outputs": [],
   "source": [
    "tips = px.data.tips()"
   ]
  },
  {
   "cell_type": "code",
   "execution_count": null,
   "metadata": {},
   "outputs": [],
   "source": [
    "tips.head()"
   ]
  },
  {
   "cell_type": "markdown",
   "metadata": {},
   "source": [
    "## Plotly Express Scatter Plots"
   ]
  },
  {
   "cell_type": "code",
   "execution_count": null,
   "metadata": {},
   "outputs": [],
   "source": [
    "px.scatter(tips, x='total_bill', y='tip')"
   ]
  },
  {
   "cell_type": "code",
   "execution_count": null,
   "metadata": {},
   "outputs": [],
   "source": [
    "px.scatter(tips, x='total_bill', y='tip', marginal_x='box', marginal_y='violin', color='sex')"
   ]
  },
  {
   "cell_type": "code",
   "execution_count": null,
   "metadata": {},
   "outputs": [],
   "source": [
    "px.scatter(tips, x='total_bill', y='tip', marginal_x='box', marginal_y='violin', color='sex', trendline='ols')"
   ]
  },
  {
   "cell_type": "code",
   "execution_count": null,
   "metadata": {},
   "outputs": [],
   "source": [
    "px.scatter(tips, x='total_bill', y='tip', color='sex', trendline='ols', facet_col='smoker')"
   ]
  },
  {
   "cell_type": "code",
   "execution_count": null,
   "metadata": {},
   "outputs": [],
   "source": [
    "px.scatter(tips, x='total_bill', y='tip', color='sex', trendline='ols', facet_col='day')"
   ]
  },
  {
   "cell_type": "code",
   "execution_count": null,
   "metadata": {},
   "outputs": [],
   "source": [
    "px.scatter(tips, x='total_bill', y='tip', color='sex', trendline='ols', facet_col='day', facet_row = 'time',\n",
    "          category_orders={'day':['Thur', 'Fri', 'Sat', 'Sun']})"
   ]
  },
  {
   "cell_type": "markdown",
   "metadata": {},
   "source": [
    "## Plotly Express Bar Charts"
   ]
  },
  {
   "cell_type": "code",
   "execution_count": null,
   "metadata": {},
   "outputs": [],
   "source": [
    "px.bar(tips, x='day', y='total_bill', category_orders={'day':['Thur', 'Fri', 'Sat', 'Sun']})"
   ]
  },
  {
   "cell_type": "markdown",
   "metadata": {},
   "source": [
    "## Plotly Express Scatter Matrix"
   ]
  },
  {
   "cell_type": "code",
   "execution_count": null,
   "metadata": {},
   "outputs": [],
   "source": [
    "px.scatter_matrix(tips)"
   ]
  },
  {
   "cell_type": "markdown",
   "metadata": {},
   "source": [
    "# Dash App"
   ]
  },
  {
   "cell_type": "markdown",
   "metadata": {},
   "source": [
    "## Very simple Example"
   ]
  },
  {
   "cell_type": "code",
   "execution_count": null,
   "metadata": {},
   "outputs": [],
   "source": [
    "import dash\n",
    "import dash_html_components as html"
   ]
  },
  {
   "cell_type": "code",
   "execution_count": null,
   "metadata": {},
   "outputs": [],
   "source": [
    "app = dash.Dash()\n",
    "\n",
    "app.layout = html.Div(children = [\n",
    "    html.H1(\"Demo: Plotly Express in Dash with Tips Dataset\"),\n",
    "    html.H2(\"I'm a sub-header\")\n",
    "])\n",
    "\n",
    "app.run_server()"
   ]
  },
  {
   "cell_type": "markdown",
   "metadata": {},
   "source": [
    "## A little more complicated"
   ]
  },
  {
   "cell_type": "code",
   "execution_count": null,
   "metadata": {},
   "outputs": [],
   "source": [
    "import dash\n",
    "import dash_html_components as html\n",
    "import dash_core_components as dcc\n",
    "from dash.dependencies import Input, Output"
   ]
  },
  {
   "cell_type": "code",
   "execution_count": null,
   "metadata": {},
   "outputs": [],
   "source": [
    "app = dash.Dash()\n",
    "\n",
    "app.layout = html.Div(children = [\n",
    "    html.H1(\"Demo: Plotly Express in Dash with Tips Dataset\"),\n",
    "    dcc.Input(id=\"x\"),\n",
    "    html.H2(id=\"x_out\")\n",
    "])\n",
    "\n",
    "@app.callback(Output('x_out', 'children'), [Input('x', 'value')])\n",
    "\n",
    "def cb(x):\n",
    "    return x\n",
    "\n",
    "app.run_server()"
   ]
  },
  {
   "cell_type": "markdown",
   "metadata": {},
   "source": [
    "## Bring in some plots"
   ]
  },
  {
   "cell_type": "code",
   "execution_count": null,
   "metadata": {},
   "outputs": [],
   "source": [
    "import dash\n",
    "import dash_html_components as html\n",
    "import dash_core_components as dcc\n",
    "from dash.dependencies import Input, Output\n",
    "\n",
    "import plotly_express as px"
   ]
  },
  {
   "cell_type": "code",
   "execution_count": null,
   "metadata": {},
   "outputs": [],
   "source": [
    "tips = px.data.tips()\n",
    "col_options = [dict(label=x, value=x) for x in tips.columns]"
   ]
  },
  {
   "cell_type": "code",
   "execution_count": null,
   "metadata": {},
   "outputs": [],
   "source": [
    "app = dash.Dash()\n",
    "\n",
    "app.layout = html.Div(children = [\n",
    "    html.H1(\"Demo: Plotly Express in Dash with Tips Dataset\"),\n",
    "    dcc.Dropdown(id='x', options=col_options),\n",
    "    dcc.Graph(id='graph', figure=px.scatter(tips))\n",
    "])\n",
    "\n",
    "@app.callback(Output('graph', 'figure'), [Input('x', 'value')])\n",
    "\n",
    "def cb(x):\n",
    "    return px.scatter(tips, x=x)\n",
    "\n",
    "app.run_server()"
   ]
  },
  {
   "cell_type": "markdown",
   "metadata": {},
   "source": [
    "## Not that interesting, let's bring in some more dimensions"
   ]
  },
  {
   "cell_type": "code",
   "execution_count": null,
   "metadata": {},
   "outputs": [],
   "source": [
    "import dash\n",
    "import dash_html_components as html\n",
    "import dash_core_components as dcc\n",
    "from dash.dependencies import Input, Output\n",
    "\n",
    "import plotly_express as px"
   ]
  },
  {
   "cell_type": "code",
   "execution_count": null,
   "metadata": {},
   "outputs": [],
   "source": [
    "tips = px.data.tips()\n",
    "col_options = [dict(label=x, value=x) for x in tips.columns]\n",
    "dimensions = [\"x\", \"y\", \"color\", \"facet_col\", \"facet_row\"]\n",
    "\n",
    "app = dash.Dash()\n",
    "\n",
    "app.layout = html.Div([\n",
    "    html.H1(\"Demo: Plotly Express in Dash with Tips Dataset\"),\n",
    "    html.Div([\n",
    "        html.P([d + \":\", dcc.Dropdown(id=d, options=col_options)])\n",
    "            for d in dimensions],\n",
    "    ),\n",
    "    dcc.Graph(id=\"graph\",\n",
    "             figure=px.scatter(tips)),\n",
    "])\n",
    "\n",
    "@app.callback(Output(\"graph\",\"figure\"), [Input(d, \"value\") for d in dimensions])\n",
    "\n",
    "def cb(x, y, color, facet_col, facet_row):\n",
    "    return px.scatter(tips,\n",
    "                     x=x, y=y, color=color, facet_col=facet_col, facet_row=facet_row)\n",
    "\n",
    "app.run_server()"
   ]
  },
  {
   "cell_type": "markdown",
   "metadata": {},
   "source": [
    "## And because we can, let's do some styling"
   ]
  },
  {
   "cell_type": "code",
   "execution_count": 1,
   "metadata": {},
   "outputs": [],
   "source": [
    "import dash\n",
    "import dash_html_components as html\n",
    "import dash_core_components as dcc\n",
    "from dash.dependencies import Input, Output\n",
    "\n",
    "import plotly_express as px"
   ]
  },
  {
   "cell_type": "code",
   "execution_count": 3,
   "metadata": {},
   "outputs": [
    {
     "name": "stdout",
     "output_type": "stream",
     "text": [
      " * Serving Flask app \"__main__\" (lazy loading)\n",
      " * Environment: production\n",
      "   WARNING: This is a development server. Do not use it in a production deployment.\n",
      "   Use a production WSGI server instead.\n",
      " * Debug mode: off\n"
     ]
    },
    {
     "name": "stderr",
     "output_type": "stream",
     "text": [
      " * Running on http://127.0.0.1:8050/ (Press CTRL+C to quit)\n",
      "127.0.0.1 - - [12/Apr/2020 17:06:19] \"GET / HTTP/1.1\" 200 -\n",
      "127.0.0.1 - - [12/Apr/2020 17:06:19] \"GET /_dash-dependencies HTTP/1.1\" 200 -\n",
      "127.0.0.1 - - [12/Apr/2020 17:06:19] \"GET /_dash-layout HTTP/1.1\" 200 -\n",
      "127.0.0.1 - - [12/Apr/2020 17:06:19] \"GET /_favicon.ico?v=1.11.0 HTTP/1.1\" 200 -\n",
      "127.0.0.1 - - [12/Apr/2020 17:06:20] \"POST /_dash-update-component HTTP/1.1\" 200 -\n",
      "127.0.0.1 - - [12/Apr/2020 17:06:24] \"POST /_dash-update-component HTTP/1.1\" 200 -\n",
      "127.0.0.1 - - [12/Apr/2020 17:06:31] \"POST /_dash-update-component HTTP/1.1\" 200 -\n",
      "127.0.0.1 - - [12/Apr/2020 17:06:37] \"POST /_dash-update-component HTTP/1.1\" 200 -\n",
      "127.0.0.1 - - [12/Apr/2020 17:06:45] \"POST /_dash-update-component HTTP/1.1\" 200 -\n",
      "127.0.0.1 - - [12/Apr/2020 17:06:54] \"POST /_dash-update-component HTTP/1.1\" 200 -\n"
     ]
    }
   ],
   "source": [
    "tips = px.data.tips()\n",
    "col_options = [dict(label=x, value=x) for x in tips.columns]\n",
    "dimensions = [\"x\", \"y\", \"color\", \"facet_col\", \"facet_row\"]\n",
    "\n",
    "app = dash.Dash()\n",
    "\n",
    "app.layout = html.Div([\n",
    "    html.H1(\"Demo: Plotly Express in Dash with Tips Dataset\"),\n",
    "    html.Div([\n",
    "        html.P([d + \":\", dcc.Dropdown(id=d, options=col_options)])\n",
    "            for d in dimensions], \n",
    "        style = {\n",
    "            \"width\": \"25%\", \"float\": \"left\"\n",
    "        },\n",
    "    ),\n",
    "    dcc.Graph(id=\"graph\", \n",
    "              style = {\n",
    "                  'width': \"75%\",\n",
    "                  'display': \"inline-block\"\n",
    "              },\n",
    "             figure=px.scatter(tips)),\n",
    "])\n",
    "\n",
    "@app.callback(Output(\"graph\",\"figure\"), [Input(d, \"value\") for d in dimensions])\n",
    "\n",
    "def cb(x, y, color, facet_col, facet_row):\n",
    "    return px.scatter(tips, height=700,\n",
    "                     x=x, y=y, color=color, facet_col=facet_col, facet_row=facet_row)\n",
    "\n",
    "app._external_stylesheets = [\"https://codepen.io/chriddyp/pen/bWI.wgP.css\"]\n",
    "\n",
    "app.run_server()"
   ]
  },
  {
   "cell_type": "markdown",
   "metadata": {},
   "source": [
    "# Bonus things to know"
   ]
  },
  {
   "cell_type": "markdown",
   "metadata": {},
   "source": [
    "## Plotly Express\n",
    "\n",
    "- Wrapper around Plotly.py\n",
    "- 2D, 3D, polar, ternary, maps, animations, faceting, trendlines, and marginals!\n",
    "- Export to any format: PNG, SVG, HTML, PDF\n",
    "- GUI Editor for figure JSON in JupyterLab\n",
    "- Built-In and User-Defined themes"
   ]
  },
  {
   "cell_type": "markdown",
   "metadata": {},
   "source": [
    "## More Complex Dash App Examples\n",
    "\n",
    "- https://dash-gallery.plotly.host/dash-svm\n",
    "- https://www.crisprindelphi.design/\n",
    "- https://emac.berkeley.edu/reliability"
   ]
  },
  {
   "cell_type": "code",
   "execution_count": null,
   "metadata": {},
   "outputs": [],
   "source": []
  }
 ],
 "metadata": {
  "kernelspec": {
   "display_name": "Python 3",
   "language": "python",
   "name": "python3"
  },
  "language_info": {
   "codemirror_mode": {
    "name": "ipython",
    "version": 3
   },
   "file_extension": ".py",
   "mimetype": "text/x-python",
   "name": "python",
   "nbconvert_exporter": "python",
   "pygments_lexer": "ipython3",
   "version": "3.7.4"
  }
 },
 "nbformat": 4,
 "nbformat_minor": 4
}
